{
 "cells": [
  {
   "cell_type": "code",
   "execution_count": 2,
   "id": "e59bb886",
   "metadata": {},
   "outputs": [
    {
     "data": {
      "text/plain": [
       "Text(0, 0.5, 'Amount of Windows')"
      ]
     },
     "execution_count": 2,
     "metadata": {},
     "output_type": "execute_result"
    },
    {
     "data": {
      "image/png": "[encoded data removed]",
      "text/plain": [
       "<Figure size 432x288 with 1 Axes>"
      ]
     },
     "metadata": {
      "needs_background": "light"
     },
     "output_type": "display_data"
    }
   ],
   "source": [
    "import numpy as np\n",
    "import datetime \n",
    "#list_of_dates = ['20150223-20150430.lst','20160201-20160430.lst']\n",
    "#list_of_dates = ['20150501-20150731.lst','20160501-20160731.lst']\n",
    "#list_of_dates = ['20150801-20151031.lst','20160801-20161031.lst']\n",
    "list_of_dates = ['20151101-20160131.lst','20161101-20170131.lst']\n",
    "data = np.array(())\n",
    "for file_name in list_of_dates:\n",
    "    dataIO = open(file_name)\n",
    "    data_list = dataIO.read()\n",
    "    data_array = data_list.split()\n",
    "    data_temp = np.array(data_array)\n",
    "    data_length = int(len(data_array)/6)\n",
    "    data_temp = data_temp.reshape((data_length,6))\n",
    "    if data.size > 0:\n",
    "        data = np.vstack((data,data_temp))\n",
    "    else:\n",
    "        data = data_temp\n",
    "#Input\n",
    "Kp = 5\n",
    "#Make a list of all the windows  with over 30 kp value\n",
    "Over30 = []\n",
    "for i in range(0, data.shape[0], 3):\n",
    "    current_row = data[i,:]\n",
    "    if (int(current_row[5]) >= Kp * 10):\n",
    "        Over30.append(current_row)\n",
    "#The Over30 list is an array of arrays. Each day chunk has mutiple datasets with index 5 as kp value\n",
    "kp_list = []\n",
    "for i in range(len(Over30)):\n",
    "    kp_list.append(int(Over30[i][5])/10)\n",
    "    \n",
    "import matplotlib.pyplot as plt\n",
    "plt.hist(kp_list, bins=[5,6,7,8])\n",
    "plt.title('Fall 2015-2016 Kp values')\n",
    "plt.xlabel('Kp Values')\n",
    "plt.ylabel('Amount of Windows')"
   ]
  },
  {
   "cell_type": "code",
   "execution_count": 3,
   "id": "8f5212d6",
   "metadata": {},
   "outputs": [
    {
     "data": {
      "text/plain": [
       "33"
      ]
     },
     "execution_count": 3,
     "metadata": {},
     "output_type": "execute_result"
    }
   ],
   "source": [
    "len(kp_list)"
   ]
  },
  {
   "cell_type": "code",
   "execution_count": 4,
   "id": "1d867f54",
   "metadata": {},
   "outputs": [
    {
     "data": {
      "text/plain": [
       "'[datetime.datetime(2015,11,3,6,0), datetime.datetime(2015,11,4,3,0), datetime.datetime(2015,11,4,6,0), datetime.datetime(2015,11,4,12,0), datetime.datetime(2015,11,7,3,0), datetime.datetime(2015,11,7,6,0), datetime.datetime(2015,11,10,6,0), datetime.datetime(2015,11,10,9,0), datetime.datetime(2015,11,10,12,0), datetime.datetime(2015,11,18,21,0), datetime.datetime(2015,11,30,6,0), datetime.datetime(2015,12,10,3,0), datetime.datetime(2015,12,14,21,0), datetime.datetime(2015,12,20,3,0), datetime.datetime(2015,12,20,6,0), datetime.datetime(2015,12,20,12,0), datetime.datetime(2015,12,20,15,0), datetime.datetime(2015,12,20,18,0), datetime.datetime(2015,12,20,21,0), datetime.datetime(2015,12,21,0,0), datetime.datetime(2015,12,21,3,0), datetime.datetime(2015,12,21,6,0), datetime.datetime(2015,12,31,12,0), datetime.datetime(2015,12,31,18,0), datetime.datetime(2015,12,31,21,0), datetime.datetime(2016,1,1,0,0), datetime.datetime(2016,1,1,3,0), datetime.datetime(2016,1,1,6,0), datetime.datetime(2016,1,21,3,0), datetime.datetime(2016,1,21,6,0), datetime.datetime(2016,11,25,3,0), datetime.datetime(2016,11,25,6,0), datetime.datetime(2016,12,21,15,0)]'"
      ]
     },
     "execution_count": 4,
     "metadata": {},
     "output_type": "execute_result"
    }
   ],
   "source": [
    "#Makes string output of array of start times\n",
    "year_string_start = [\"\" for x in range(len(Over30))]\n",
    "year_string_end = [\"\" for x in range(len(Over30))]\n",
    "for index, i in enumerate(Over30):\n",
    "    year = int(i[0])\n",
    "    DOY = int(i[1])\n",
    "    Hour = int(i[2])\n",
    "    time = datetime.datetime(year, 1, 1) + datetime.timedelta(DOY - 1) + datetime.timedelta(hours = Hour)\n",
    "    year_string = f'datetime.datetime({time.year},{time.month},{time.day},{time.hour},0)'\n",
    "    year_string_start[index] = year_string\n",
    "    time = time + datetime.timedelta(hours = 3)\n",
    "    year_end = f'datetime.datetime({time.year},{time.month},{time.day},{time.hour},0)'\n",
    "    year_string_end[index] = year_end\n",
    "\n",
    "start = \"[\"\n",
    "end = \"[\"\n",
    "\n",
    "for i in range(len(year_string_start)):\n",
    "    #Last in array\n",
    "    if (i == len(year_string_start)-1):\n",
    "        start = start + year_string_start[i] + ']'\n",
    "        end = end + year_string_end[i] + ']'\n",
    "    else:\n",
    "        start = start + year_string_start[i] + ', '\n",
    "        end = end + year_string_end[i] + ', '\n",
    "start"
   ]
  },
  {
   "cell_type": "code",
   "execution_count": 5,
   "id": "39669bcc",
   "metadata": {},
   "outputs": [
    {
     "data": {
      "text/plain": [
       "'[datetime.datetime(2015,11,3,9,0), datetime.datetime(2015,11,4,6,0), datetime.datetime(2015,11,4,9,0), datetime.datetime(2015,11,4,15,0), datetime.datetime(2015,11,7,6,0), datetime.datetime(2015,11,7,9,0), datetime.datetime(2015,11,10,9,0), datetime.datetime(2015,11,10,12,0), datetime.datetime(2015,11,10,15,0), datetime.datetime(2015,11,19,0,0), datetime.datetime(2015,11,30,9,0), datetime.datetime(2015,12,10,6,0), datetime.datetime(2015,12,15,0,0), datetime.datetime(2015,12,20,6,0), datetime.datetime(2015,12,20,9,0), datetime.datetime(2015,12,20,15,0), datetime.datetime(2015,12,20,18,0), datetime.datetime(2015,12,20,21,0), datetime.datetime(2015,12,21,0,0), datetime.datetime(2015,12,21,3,0), datetime.datetime(2015,12,21,6,0), datetime.datetime(2015,12,21,9,0), datetime.datetime(2015,12,31,15,0), datetime.datetime(2015,12,31,21,0), datetime.datetime(2016,1,1,0,0), datetime.datetime(2016,1,1,3,0), datetime.datetime(2016,1,1,6,0), datetime.datetime(2016,1,1,9,0), datetime.datetime(2016,1,21,6,0), datetime.datetime(2016,1,21,9,0), datetime.datetime(2016,11,25,6,0), datetime.datetime(2016,11,25,9,0), datetime.datetime(2016,12,21,18,0)]'"
      ]
     },
     "execution_count": 5,
     "metadata": {},
     "output_type": "execute_result"
    }
   ],
   "source": [
    "end"
   ]
  },
  {
   "cell_type": "code",
   "execution_count": null,
   "id": "c50130de",
   "metadata": {},
   "outputs": [],
   "source": []
  },
  {
   "cell_type": "code",
   "execution_count": null,
   "id": "94449065",
   "metadata": {},
   "outputs": [],
   "source": []
  }
 ],
 "metadata": {
  "kernelspec": {
   "display_name": "Python 3",
   "language": "python",
   "name": "python3"
  },
  "language_info": {
   "codemirror_mode": {
    "name": "ipython",
    "version": 3
   },
   "file_extension": ".py",
   "mimetype": "text/x-python",
   "name": "python",
   "nbconvert_exporter": "python",
   "pygments_lexer": "ipython3",
   "version": "3.8.8"
  }
 },
 "nbformat": 4,
 "nbformat_minor": 5
}

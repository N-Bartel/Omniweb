{
 "cells": [
  {
   "cell_type": "code",
   "execution_count": 86,
   "id": "e59bb886",
   "metadata": {},
   "outputs": [
    {
     "data": {
      "text/plain": [
       "Text(0, 0.5, 'Amount of Windows')"
      ]
     },
     "execution_count": 86,
     "metadata": {},
     "output_type": "execute_result"
    },
    {
     "data": {
      "image/png": "[encoded data removed]",
      "text/plain": [
       "<Figure size 432x288 with 1 Axes>"
      ]
     },
     "metadata": {
      "needs_background": "light"
     },
     "output_type": "display_data"
    }
   ],
   "source": [
    "import numpy as np\n",
    "import datetime \n",
    "list_of_dates = ['20150223-20150430.lst','20160201-20160430.lst']\n",
    "#list_of_dates = ['20150501-20150731.lst','20160501-20160731.lst']\n",
    "#list_of_dates = ['20150801-20151031.lst','20160801-20161031.lst']\n",
    "#list_of_dates = ['20151101-20160131.lst','20161101-20170131.lst']\n",
    "data = np.array(())\n",
    "for file_name in list_of_dates:\n",
    "    dataIO = open(file_name)\n",
    "    data_list = dataIO.read()\n",
    "    data_array = data_list.split()\n",
    "    data_temp = np.array(data_array)\n",
    "    data_length = int(len(data_array)/6)\n",
    "    data_temp = data_temp.reshape((data_length,6))\n",
    "    if data.size > 0:\n",
    "        data = np.vstack((data,data_temp))\n",
    "    else:\n",
    "        data = data_temp\n",
    "#Input\n",
    "Kp = 5\n",
    "#Make a list of all the windows  with over 30 kp value\n",
    "Over30 = []\n",
    "for i in range(0, data.shape[0], 3):\n",
    "    current_row = data[i,:]\n",
    "    if (int(current_row[5]) >= Kp * 10):\n",
    "        Over30.append(current_row)\n",
    "#The Over30 list is an array of arrays. Each day chunk has mutiple datasets with index 5 as kp value\n",
    "kp_list = []\n",
    "for i in range(len(Over30)):\n",
    "    kp_list.append(int(Over30[i][5])/10)\n",
    "    \n",
    "import matplotlib.pyplot as plt\n",
    "plt.hist(kp_list, bins=[5,6,7,8])\n",
    "plt.title('Fall 2015-2016 Kp values')\n",
    "plt.xlabel('Kp Values')\n",
    "plt.ylabel('Amount of Windows')"
   ]
  },
  {
   "cell_type": "code",
   "execution_count": 87,
   "id": "8f5212d6",
   "metadata": {},
   "outputs": [
    {
     "data": {
      "text/plain": [
       "44"
      ]
     },
     "execution_count": 87,
     "metadata": {},
     "output_type": "execute_result"
    }
   ],
   "source": [
    "len(kp_list)"
   ]
  },
  {
   "cell_type": "code",
   "execution_count": 88,
   "id": "1d867f54",
   "metadata": {},
   "outputs": [
    {
     "data": {
      "text/plain": [
       "'[datetime.datetime(2015,2,24,0,0), datetime.datetime(2015,2,24,3,0), datetime.datetime(2015,3,1,0,0), datetime.datetime(2015,3,1,3,0), datetime.datetime(2015,3,1,6,0), datetime.datetime(2015,3,2,6,0), datetime.datetime(2015,3,17,6,0), datetime.datetime(2015,3,17,9,0), datetime.datetime(2015,3,17,12,0), datetime.datetime(2015,3,17,15,0), datetime.datetime(2015,3,17,18,0), datetime.datetime(2015,3,17,21,0), datetime.datetime(2015,3,18,0,0), datetime.datetime(2015,3,18,12,0), datetime.datetime(2015,3,18,15,0), datetime.datetime(2015,3,19,9,0), datetime.datetime(2015,3,22,6,0), datetime.datetime(2015,4,10,0,0), datetime.datetime(2015,4,10,3,0), datetime.datetime(2015,4,10,6,0), datetime.datetime(2015,4,15,9,0), datetime.datetime(2015,4,15,12,0), datetime.datetime(2015,4,16,18,0), datetime.datetime(2015,4,16,21,0), datetime.datetime(2015,4,17,0,0), datetime.datetime(2016,2,8,0,0), datetime.datetime(2016,2,16,12,0), datetime.datetime(2016,2,16,15,0), datetime.datetime(2016,2,16,18,0), datetime.datetime(2016,2,17,0,0), datetime.datetime(2016,2,17,21,0), datetime.datetime(2016,2,18,3,0), datetime.datetime(2016,3,6,15,0), datetime.datetime(2016,3,6,18,0), datetime.datetime(2016,3,6,21,0), datetime.datetime(2016,3,11,12,0), datetime.datetime(2016,3,14,21,0), datetime.datetime(2016,3,15,18,0), datetime.datetime(2016,3,16,0,0), datetime.datetime(2016,4,2,15,0), datetime.datetime(2016,4,2,21,0), datetime.datetime(2016,4,7,21,0), datetime.datetime(2016,4,12,21,0), datetime.datetime(2016,4,13,0,0)]'"
      ]
     },
     "execution_count": 88,
     "metadata": {},
     "output_type": "execute_result"
    }
   ],
   "source": [
    "#Makes string output of array of start times\n",
    "year_string_start = [\"\" for x in range(len(Over30))]\n",
    "year_string_end = [\"\" for x in range(len(Over30))]\n",
    "for index, i in enumerate(Over30):\n",
    "    year = int(i[0])\n",
    "    DOY = int(i[1])\n",
    "    Hour = int(i[2])\n",
    "    time = datetime.datetime(year, 1, 1) + datetime.timedelta(DOY - 1) + datetime.timedelta(hours = Hour)\n",
    "    year_string = f'datetime.datetime({time.year},{time.month},{time.day},{time.hour},0)'\n",
    "    year_string_start[index] = year_string\n",
    "    time = time + datetime.timedelta(hours = 3)\n",
    "    year_end = f'datetime.datetime({time.year},{time.month},{time.day},{time.hour},0)'\n",
    "    year_string_end[index] = year_end\n",
    "\n",
    "start = \"[\"\n",
    "end = \"[\"\n",
    "\n",
    "for i in range(len(year_string_start)):\n",
    "    #Last in array\n",
    "    if (i == len(year_string_start)-1):\n",
    "        start = start + year_string_start[i] + ']'\n",
    "        end = end + year_string_end[i] + ']'\n",
    "    else:\n",
    "        start = start + year_string_start[i] + ', '\n",
    "        end = end + year_string_end[i] + ', '\n",
    "start"
   ]
  },
  {
   "cell_type": "code",
   "execution_count": 89,
   "id": "39669bcc",
   "metadata": {},
   "outputs": [
    {
     "data": {
      "text/plain": [
       "'[datetime.datetime(2015,2,24,3,0), datetime.datetime(2015,2,24,6,0), datetime.datetime(2015,3,1,3,0), datetime.datetime(2015,3,1,6,0), datetime.datetime(2015,3,1,9,0), datetime.datetime(2015,3,2,9,0), datetime.datetime(2015,3,17,9,0), datetime.datetime(2015,3,17,12,0), datetime.datetime(2015,3,17,15,0), datetime.datetime(2015,3,17,18,0), datetime.datetime(2015,3,17,21,0), datetime.datetime(2015,3,18,0,0), datetime.datetime(2015,3,18,3,0), datetime.datetime(2015,3,18,15,0), datetime.datetime(2015,3,18,18,0), datetime.datetime(2015,3,19,12,0), datetime.datetime(2015,3,22,9,0), datetime.datetime(2015,4,10,3,0), datetime.datetime(2015,4,10,6,0), datetime.datetime(2015,4,10,9,0), datetime.datetime(2015,4,15,12,0), datetime.datetime(2015,4,15,15,0), datetime.datetime(2015,4,16,21,0), datetime.datetime(2015,4,17,0,0), datetime.datetime(2015,4,17,3,0), datetime.datetime(2016,2,8,3,0), datetime.datetime(2016,2,16,15,0), datetime.datetime(2016,2,16,18,0), datetime.datetime(2016,2,16,21,0), datetime.datetime(2016,2,17,3,0), datetime.datetime(2016,2,18,0,0), datetime.datetime(2016,2,18,6,0), datetime.datetime(2016,3,6,18,0), datetime.datetime(2016,3,6,21,0), datetime.datetime(2016,3,7,0,0), datetime.datetime(2016,3,11,15,0), datetime.datetime(2016,3,15,0,0), datetime.datetime(2016,3,15,21,0), datetime.datetime(2016,3,16,3,0), datetime.datetime(2016,4,2,18,0), datetime.datetime(2016,4,3,0,0), datetime.datetime(2016,4,8,0,0), datetime.datetime(2016,4,13,0,0), datetime.datetime(2016,4,13,3,0)]'"
      ]
     },
     "execution_count": 89,
     "metadata": {},
     "output_type": "execute_result"
    }
   ],
   "source": [
    "end"
   ]
  },
  {
   "cell_type": "code",
   "execution_count": null,
   "id": "c50130de",
   "metadata": {},
   "outputs": [],
   "source": []
  },
  {
   "cell_type": "code",
   "execution_count": null,
   "id": "94449065",
   "metadata": {},
   "outputs": [],
   "source": []
  }
 ],
 "metadata": {
  "kernelspec": {
   "display_name": "Python 3",
   "language": "python",
   "name": "python3"
  },
  "language_info": {
   "codemirror_mode": {
    "name": "ipython",
    "version": 3
   },
   "file_extension": ".py",
   "mimetype": "text/x-python",
   "name": "python",
   "nbconvert_exporter": "python",
   "pygments_lexer": "ipython3",
   "version": "3.8.8"
  }
 },
 "nbformat": 4,
 "nbformat_minor": 5
}
